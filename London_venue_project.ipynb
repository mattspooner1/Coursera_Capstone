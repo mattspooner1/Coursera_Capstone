{
 "cells": [
  {
   "cell_type": "markdown",
   "metadata": {},
   "source": [
    "## **A. Introduction**"
   ]
  },
  {
   "cell_type": "markdown",
   "metadata": {},
   "source": [
    "#### **A.1. Description & Disscusion of the Background**\n",
    "\n",
    "London is one of the largest metropolises in the world where almost **9 million** people live and it has a population density of **5,701** people per square kilometer. As a resident of the city, I decided to use London in my project. The city is divided into 33 boroughs in total each controlled by a different political party which is often a good indicator for the affluence of the borough.\n",
    "\n",
    "While London isn't the largest city or the most densely populated, it is extremely expensive and hard for any new business to prosper. It's not unusual for a small independent business to crop up one month and close down the next due to high rent and high competition. I aim to deliver insights into areas that business owners and investors should set up to avoid running themselves out of business. \n",
    "\n",
    "We would expect that cheaper areas would be more sought after for new business owners and more expensive areas for those already with a large brand behind them.\n",
    "\n",
    "When we consider these things, we can create a map and information chart where the real estate index is placed on London and each district is clustered according to the venue density."
   ]
  },
  {
   "cell_type": "markdown",
   "metadata": {},
   "source": [
    "#### **A.2. Data Description**\n",
    "\n",
    "To consider the problem we can list the data I collected below\n",
    "\n",
    "* I used the Wikipedia page to list all London boroughs with their longitudes and latitudes and political sway \n",
    "* I used **Foursquare API** to get the most common venues of given Borough of London \n",
    "* I used a public csv file supplied by the London Datastore to find out the average weekly rent of each borough "
   ]
  },
  {
   "cell_type": "code",
   "execution_count": 100,
   "metadata": {},
   "outputs": [
    {
     "ename": "SyntaxError",
     "evalue": "invalid syntax (<ipython-input-100-7fbce2a54a71>, line 13)",
     "output_type": "error",
     "traceback": [
      "\u001b[1;36m  File \u001b[1;32m\"<ipython-input-100-7fbce2a54a71>\"\u001b[1;36m, line \u001b[1;32m13\u001b[0m\n\u001b[1;33m    conda install -c plotly plotly-orca\u001b[0m\n\u001b[1;37m          ^\u001b[0m\n\u001b[1;31mSyntaxError\u001b[0m\u001b[1;31m:\u001b[0m invalid syntax\n"
     ]
    }
   ],
   "source": [
    "from bs4 import BeautifulSoup # this module helps in web scrapping.\n",
    "import requests\n",
    "import pandas as pd\n",
    "from geopy.geocoders import Nominatim\n",
    "import folium # map rendering library\n",
    "import numpy as np\n",
    "from sklearn.cluster import KMeans\n",
    "import matplotlib.cm as cm\n",
    "import matplotlib.colors as colors\n",
    "import pandas as pd\n",
    "import plotly.express as px\n",
    "import plotly.graph_objects as go\n",
    "conda install -c plotly plotly-orca"
   ]
  },
  {
   "cell_type": "markdown",
   "metadata": {},
   "source": [
    "## **B. Methodology**\n",
    "----"
   ]
  },
  {
   "cell_type": "markdown",
   "metadata": {},
   "source": [
    "#### **B.1. Creating data table and data pre-processing**\n",
    "\n",
    "My master data **df** has the main components *Borough, Political control, Population, Area, Average weekly rent, Latitude* and *Longitude* informations of the city."
   ]
  },
  {
   "cell_type": "code",
   "execution_count": 94,
   "metadata": {},
   "outputs": [
    {
     "data": {
      "text/html": [
       "<div>\n",
       "<style scoped>\n",
       "    .dataframe tbody tr th:only-of-type {\n",
       "        vertical-align: middle;\n",
       "    }\n",
       "\n",
       "    .dataframe tbody tr th {\n",
       "        vertical-align: top;\n",
       "    }\n",
       "\n",
       "    .dataframe thead th {\n",
       "        text-align: right;\n",
       "    }\n",
       "</style>\n",
       "<table border=\"1\" class=\"dataframe\">\n",
       "  <thead>\n",
       "    <tr style=\"text-align: right;\">\n",
       "      <th></th>\n",
       "      <th>Borough</th>\n",
       "      <th>Political control</th>\n",
       "      <th>Area (sq mi)</th>\n",
       "      <th>Population (2019 est)[1]</th>\n",
       "      <th>Rent</th>\n",
       "      <th>Longitude</th>\n",
       "      <th>Latitude</th>\n",
       "    </tr>\n",
       "  </thead>\n",
       "  <tbody>\n",
       "    <tr>\n",
       "      <th>0</th>\n",
       "      <td>Barking and Dagenham</td>\n",
       "      <td>Labour</td>\n",
       "      <td>13.93</td>\n",
       "      <td>212,906</td>\n",
       "      <td>95.516082</td>\n",
       "      <td>51.560</td>\n",
       "      <td>0.1557</td>\n",
       "    </tr>\n",
       "    <tr>\n",
       "      <th>1</th>\n",
       "      <td>Barnet</td>\n",
       "      <td>Conservative</td>\n",
       "      <td>33.49</td>\n",
       "      <td>395,896</td>\n",
       "      <td>101.374365</td>\n",
       "      <td>51.625</td>\n",
       "      <td>-0.1517</td>\n",
       "    </tr>\n",
       "    <tr>\n",
       "      <th>2</th>\n",
       "      <td>Bexley</td>\n",
       "      <td>Conservative</td>\n",
       "      <td>23.38</td>\n",
       "      <td>248,287</td>\n",
       "      <td>NaN</td>\n",
       "      <td>51.454</td>\n",
       "      <td>0.1505</td>\n",
       "    </tr>\n",
       "    <tr>\n",
       "      <th>3</th>\n",
       "      <td>Brent</td>\n",
       "      <td>Labour</td>\n",
       "      <td>16.70</td>\n",
       "      <td>329,771</td>\n",
       "      <td>112.660721</td>\n",
       "      <td>51.558</td>\n",
       "      <td>-0.2817</td>\n",
       "    </tr>\n",
       "    <tr>\n",
       "      <th>4</th>\n",
       "      <td>Bromley</td>\n",
       "      <td>Conservative</td>\n",
       "      <td>57.97</td>\n",
       "      <td>332,336</td>\n",
       "      <td>NaN</td>\n",
       "      <td>51.403</td>\n",
       "      <td>0.0198</td>\n",
       "    </tr>\n",
       "  </tbody>\n",
       "</table>\n",
       "</div>"
      ],
      "text/plain": [
       "                Borough Political control  Area (sq mi)  \\\n",
       "0  Barking and Dagenham            Labour         13.93   \n",
       "1                Barnet      Conservative         33.49   \n",
       "2                Bexley      Conservative         23.38   \n",
       "3                 Brent            Labour         16.70   \n",
       "4               Bromley      Conservative         57.97   \n",
       "\n",
       "  Population (2019 est)[1]        Rent  Longitude  Latitude  \n",
       "0                  212,906   95.516082     51.560    0.1557  \n",
       "1                  395,896  101.374365     51.625   -0.1517  \n",
       "2                  248,287         NaN     51.454    0.1505  \n",
       "3                  329,771  112.660721     51.558   -0.2817  \n",
       "4                  332,336         NaN     51.403    0.0198  "
      ]
     },
     "execution_count": 94,
     "metadata": {},
     "output_type": "execute_result"
    }
   ],
   "source": [
    "df = pd.read_csv(\"London_borough_df.csv\")\n",
    "df.head()"
   ]
  },
  {
   "cell_type": "markdown",
   "metadata": {},
   "source": [
    "Let's group the data by Political Control to help show affluent areas"
   ]
  },
  {
   "cell_type": "code",
   "execution_count": 102,
   "metadata": {},
   "outputs": [
    {
     "data": {
      "image/png": "[encoded data removed]"
     },
     "metadata": {},
     "output_type": "display_data"
    }
   ],
   "source": [
    "political_control = df.groupby('Political control', as_index=False)['Rent'].mean()\n",
    "fig = px.bar(political_control, x=\"Political control\", y=\"Rent\", title='Average rent of each Political Party controlled borough') \n",
    "fig.update_layout(yaxis_range=[96,115])\n",
    "fig.show(\"png\")"
   ]
  },
  {
   "cell_type": "markdown",
   "metadata": {},
   "source": [
    "As expected, Conservative controlled areas are typically more affluent leading to higher rent compared to Labour controlled areas."
   ]
  },
  {
   "cell_type": "code",
   "execution_count": null,
   "metadata": {},
   "outputs": [],
   "source": []
  }
 ],
 "metadata": {
  "kernelspec": {
   "display_name": "Python 3",
   "language": "python",
   "name": "python3"
  },
  "language_info": {
   "codemirror_mode": {
    "name": "ipython",
    "version": 3
   },
   "file_extension": ".py",
   "mimetype": "text/x-python",
   "name": "python",
   "nbconvert_exporter": "python",
   "pygments_lexer": "ipython3",
   "version": "3.8.3"
  }
 },
 "nbformat": 4,
 "nbformat_minor": 4
}
